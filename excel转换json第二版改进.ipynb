{
 "cells": [
  {
   "cell_type": "code",
   "execution_count": 1,
   "metadata": {
    "collapsed": true
   },
   "outputs": [],
   "source": [
    "import xlrd"
   ]
  },
  {
   "cell_type": "code",
   "execution_count": 70,
   "metadata": {
    "collapsed": true
   },
   "outputs": [],
   "source": [
    "workbook=xlrd.open_workbook(\"1.xlsx\")"
   ]
  },
  {
   "cell_type": "code",
   "execution_count": 71,
   "metadata": {},
   "outputs": [
    {
     "data": {
      "text/plain": [
       "'Sheet1'"
      ]
     },
     "execution_count": 71,
     "metadata": {},
     "output_type": "execute_result"
    }
   ],
   "source": [
    "# 获取所有sheet\n",
    "sheet_name = workbook.sheet_names()[0]\n",
    "sheet_name"
   ]
  },
  {
   "cell_type": "code",
   "execution_count": 72,
   "metadata": {},
   "outputs": [
    {
     "data": {
      "text/plain": [
       "<xlrd.sheet.Sheet at 0x1fe66249358>"
      ]
     },
     "execution_count": 72,
     "metadata": {},
     "output_type": "execute_result"
    }
   ],
   "source": [
    "# 根据sheet索引或者名称获取sheet内容\n",
    "sheet = workbook.sheet_by_index(0) # sheet索引从0开始\n",
    "sheet"
   ]
  },
  {
   "cell_type": "code",
   "execution_count": 73,
   "metadata": {},
   "outputs": [
    {
     "name": "stdout",
     "output_type": "stream",
     "text": [
      "7 8\n"
     ]
    }
   ],
   "source": [
    "rowNum = sheet.nrows  # sheet行数\n",
    "colNum = sheet.ncols  # sheet列数\n",
    "print(rowNum,colNum)"
   ]
  },
  {
   "cell_type": "code",
   "execution_count": 74,
   "metadata": {},
   "outputs": [
    {
     "name": "stdout",
     "output_type": "stream",
     "text": [
      "Sheet1 7 8\n"
     ]
    }
   ],
   "source": [
    "#获取sheet的名称，行数，列数\n",
    "print(sheet.name,sheet.nrows,sheet.ncols )"
   ]
  },
  {
   "cell_type": "code",
   "execution_count": 75,
   "metadata": {},
   "outputs": [
    {
     "data": {
      "text/plain": [
       "89.0"
      ]
     },
     "execution_count": 75,
     "metadata": {},
     "output_type": "execute_result"
    }
   ],
   "source": [
    "#获取指定单元格里面的值\n",
    "sheet.cell_value(1,2)"
   ]
  },
  {
   "cell_type": "code",
   "execution_count": 76,
   "metadata": {
    "collapsed": true
   },
   "outputs": [],
   "source": [
    "#获取某行或者某列的值\n",
    "rows = sheet.row_values(0) # 获取第2行内容\n",
    "cols = sheet.col_values(1) # 获取第3列内容"
   ]
  },
  {
   "cell_type": "code",
   "execution_count": 77,
   "metadata": {},
   "outputs": [
    {
     "data": {
      "text/plain": [
       "['省', '市', 't', 's', 'g', 'h', 'j', 'k']"
      ]
     },
     "execution_count": 77,
     "metadata": {},
     "output_type": "execute_result"
    }
   ],
   "source": [
    "rows"
   ]
  },
  {
   "cell_type": "code",
   "execution_count": 78,
   "metadata": {},
   "outputs": [
    {
     "data": {
      "text/plain": [
       "['市', '金寨', '舒城', '南京', '长春', '合肥', '上海']"
      ]
     },
     "execution_count": 78,
     "metadata": {},
     "output_type": "execute_result"
    }
   ],
   "source": [
    "cols"
   ]
  },
  {
   "cell_type": "markdown",
   "metadata": {},
   "source": [
    "# 开始写进json文件"
   ]
  },
  {
   "cell_type": "code",
   "execution_count": 2,
   "metadata": {
    "collapsed": true
   },
   "outputs": [],
   "source": [
    "import xlrd\n",
    "import json\n",
    "import operator"
   ]
  },
  {
   "cell_type": "code",
   "execution_count": 7,
   "metadata": {
    "collapsed": true
   },
   "outputs": [],
   "source": [
    "def read_xlsx(filename):\n",
    "    #打开excel文件\n",
    "    data1=xlrd.open_workbook(filename)\n",
    "    data2=xlrd.open_workbook(\"2.xlsx\")\n",
    "    #读取第一个工作表\n",
    "    table1=data1.sheets()[0]\n",
    "    table2=data2.sheets()[0]\n",
    "    #统计行数\n",
    "    n_rows1 = table1.nrows\n",
    "    n_rows2=table2.nrows\n",
    "    \n",
    "    data=[]\n",
    "    for v in range(1, n_rows1-1):\n",
    "        # 每一行数据形成一个列表\n",
    "        values = table1.row_values(v)\n",
    "        values2=table2.row_values(v)\n",
    "         # 列表形成字典\n",
    "        data.append({\n",
    "                     '省': values[0],\n",
    "                     '市':   values[1],\n",
    "                     'data1':{  't': values[2],\n",
    "                                 's':values[3]},\n",
    "                     'data2': {  'g':values[4],\n",
    "                                 'h':values[5],\n",
    "                                'j':values[6],\n",
    "                              },\n",
    "                      'data3':{ 'g1':values2[2],\n",
    "                               'h1':values2[3],\n",
    "                               'j1':values2[4],\n",
    "                               'k1':values2[5],\n",
    "                      },\n",
    "                     '2019-108': values[7]\n",
    "                     })\n",
    "    #返回所以数据\n",
    "    return data\n",
    "\n",
    " \n",
    "    \n",
    "    "
   ]
  },
  {
   "cell_type": "code",
   "execution_count": 8,
   "metadata": {},
   "outputs": [],
   "source": [
    "if __name__ == '__main__':\n",
    "    d= read_xlsx('1.xlsx')\n",
    "    # 写入json文件\n",
    "    with open('12.json', 'w', encoding='utf-8') as f:\n",
    "        #ensure_ascii=False显示中文,indent=2缩进为2\n",
    "        f.write(json.dumps(d, ensure_ascii=False, indent=2))\n",
    "\n",
    "    \n",
    "    "
   ]
  },
  {
   "cell_type": "code",
   "execution_count": null,
   "metadata": {
    "collapsed": true
   },
   "outputs": [],
   "source": []
  },
  {
   "cell_type": "code",
   "execution_count": null,
   "metadata": {
    "collapsed": true
   },
   "outputs": [],
   "source": []
  }
 ],
 "metadata": {
  "kernelspec": {
   "display_name": "Python 3",
   "language": "python",
   "name": "python3"
  },
  "language_info": {
   "codemirror_mode": {
    "name": "ipython",
    "version": 3
   },
   "file_extension": ".py",
   "mimetype": "text/x-python",
   "name": "python",
   "nbconvert_exporter": "python",
   "pygments_lexer": "ipython3",
   "version": "3.5.3"
  }
 },
 "nbformat": 4,
 "nbformat_minor": 2
}
